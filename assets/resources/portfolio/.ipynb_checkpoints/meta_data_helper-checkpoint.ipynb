{
 "cells": [
  {
   "cell_type": "code",
   "execution_count": 1,
   "id": "8cbb2adf-0ebf-4d41-aecf-c6f6c8d84cb5",
   "metadata": {},
   "outputs": [],
   "source": [
    "import os\n",
    "import json\n",
    "root_path = \"..\"\n",
    "proj_required_keys = [\n",
    "    'description','project_type','src_file','portfolio_src','portfolio_marker','portfolio_marker_highlight'\n",
    "]"
   ]
  },
  {
   "cell_type": "code",
   "execution_count": 2,
   "id": "1311926e-5a2a-4b01-9459-8763fb2ea0d9",
   "metadata": {},
   "outputs": [],
   "source": [
    "# TODO \n",
    "# 1, 完成construct json 文件生成自动维护代码\n",
    "# 2, portfolio页面动态生成\n",
    "# 3, memory system 根据需要读取当前页面的内容\n",
    "# 4, Keyword 系统动态更新keyword, meta-keyword 根据页数创建读取位置 传送 高亮的\n",
    "\n",
    "\n",
    "\n",
    "\n",
    "# TODO \n",
    "# 1, Action Space完善\n",
    "# 2, 用户操作读取记录\n",
    "# 3, 主动式agent行为调用 规则"
   ]
  },
  {
   "cell_type": "code",
   "execution_count": 3,
   "id": "a257c6af-26ab-44e1-a028-3936eaa06213",
   "metadata": {
    "scrolled": true
   },
   "outputs": [],
   "source": [
    "# publications\n",
    "\n",
    "def organize_portfolio_construct(proj_type):\n",
    "    publication_portfolio_construction_file = []\n",
    "    project_type = proj_type\n",
    "    path = os.path.join(root_path,project_type)\n",
    "    project_names = os.listdir(path)\n",
    "    for project_name in project_names:\n",
    "        if project_name.startswith('.'):\n",
    "            continue\n",
    "        proj_path = os.path.join(path, project_name)\n",
    "        with open(os.path.join(proj_path, 'meta.json'), 'r') as f:\n",
    "            meta_file = json.load(f)\n",
    "        if 'title' not in meta_file or project_name != meta_file['title']:\n",
    "            meta_file['title'] = project_name\n",
    "        for required_key in proj_required_keys:\n",
    "            assert required_key in meta_file, f'''required key: {required_key} not in meta file, proj_path: {proj_path}'''\n",
    "        portfolio_construct_meta = {}\n",
    "        cleaned_meta_data = {}\n",
    "        for key in meta_file:\n",
    "            if not key.startswith('_'):\n",
    "                # construct meta data\n",
    "                construct_meta_data_keys = ['title','project_type','portfolio_src','portfolio_marker','portfolio_marker_highlight']\n",
    "                if key in construct_meta_data_keys:\n",
    "                    if key == 'portfolio_src':\n",
    "                        value = []\n",
    "                        pt_files = meta_file[key]\n",
    "                        for pt_file in pt_files:\n",
    "                            if len(pt_file.split('/'))>1:\n",
    "                                value.append(pt_file)\n",
    "                            else:\n",
    "                                value.append(os.path.join(proj_path,pt_file))\n",
    "                    else:\n",
    "                        value = meta_file[key]\n",
    "                        \n",
    "                    portfolio_construct_meta.update({\n",
    "                        key: value\n",
    "                    })\n",
    "                    \n",
    "            # clean file meta data\n",
    "            if key == 'portfolio_src':\n",
    "                clean_meta_value = []\n",
    "                portfolio_srcs = meta_file['portfolio_src']\n",
    "                for portfolio_src in portfolio_srcs:\n",
    "                    if len(portfolio_src.split('/'))>1:\n",
    "                        clean_meta_value.append(portfolio_src)\n",
    "                    else:\n",
    "                        clean_meta_value.append(os.path.join(proj_path,portfolio_src))\n",
    "            elif key == 'src_file':\n",
    "                if meta_file['project_type'] == 'outside link':\n",
    "                    clean_meta_value = meta_file[key]\n",
    "                else:\n",
    "                    cur_path = meta_file[key]\n",
    "                    if cur_path is None:\n",
    "                        clean_meta_value = None\n",
    "                    elif len(cur_path.split('/'))>1:\n",
    "                        clean_meta_value = os.path.join(proj_path,cur_path)\n",
    "                    else:\n",
    "                        clean_meta_value = cur_path\n",
    "                        \n",
    "                    \n",
    "            else:\n",
    "                clean_meta_value = meta_file[key]\n",
    "            cleaned_meta_data.update({key:clean_meta_value})\n",
    "        with open(os.path.join(proj_path, 'meta.json'), 'w', encoding='utf-8') as f:\n",
    "            json.dump(cleaned_meta_data, f, ensure_ascii=False, indent=4)\n",
    "            \n",
    "        publication_portfolio_construction_file.append(portfolio_construct_meta)\n",
    "    return {proj_type:publication_portfolio_construction_file}"
   ]
  },
  {
   "cell_type": "code",
   "execution_count": 4,
   "id": "9b10d248-9d2c-47af-b6fd-c77d9c442c54",
   "metadata": {},
   "outputs": [
    {
     "ename": "AttributeError",
     "evalue": "'NoneType' object has no attribute 'split'",
     "output_type": "error",
     "traceback": [
      "\u001b[0;31m---------------------------------------------------------------------------\u001b[0m",
      "\u001b[0;31mAttributeError\u001b[0m                            Traceback (most recent call last)",
      "Cell \u001b[0;32mIn[4], line 4\u001b[0m\n\u001b[1;32m      2\u001b[0m construct_json_file \u001b[38;5;241m=\u001b[39m {}\n\u001b[1;32m      3\u001b[0m \u001b[38;5;28;01mfor\u001b[39;00m proj_type \u001b[38;5;129;01min\u001b[39;00m proj_types:\n\u001b[0;32m----> 4\u001b[0m     construct_json_file\u001b[38;5;241m.\u001b[39mupdate(\u001b[43morganize_portfolio_construct\u001b[49m\u001b[43m(\u001b[49m\u001b[43mproj_type\u001b[49m\u001b[43m)\u001b[49m)\n\u001b[1;32m      5\u001b[0m construct_json_file\n",
      "Cell \u001b[0;32mIn[3], line 56\u001b[0m, in \u001b[0;36morganize_portfolio_construct\u001b[0;34m(proj_type)\u001b[0m\n\u001b[1;32m     54\u001b[0m \u001b[38;5;28;01mif\u001b[39;00m cur_path \u001b[38;5;129;01mis\u001b[39;00m \u001b[38;5;28;01mNone\u001b[39;00m:\n\u001b[1;32m     55\u001b[0m     clean_meta_value \u001b[38;5;241m=\u001b[39m \u001b[38;5;28;01mNone\u001b[39;00m\n\u001b[0;32m---> 56\u001b[0m \u001b[38;5;28;01mif\u001b[39;00m \u001b[38;5;28mlen\u001b[39m(\u001b[43mcur_path\u001b[49m\u001b[38;5;241;43m.\u001b[39;49m\u001b[43msplit\u001b[49m(\u001b[38;5;124m'\u001b[39m\u001b[38;5;124m/\u001b[39m\u001b[38;5;124m'\u001b[39m))\u001b[38;5;241m>\u001b[39m\u001b[38;5;241m1\u001b[39m:\n\u001b[1;32m     57\u001b[0m     clean_meta_value \u001b[38;5;241m=\u001b[39m os\u001b[38;5;241m.\u001b[39mpath\u001b[38;5;241m.\u001b[39mjoin(proj_path,cur_path)\n\u001b[1;32m     58\u001b[0m \u001b[38;5;28;01melse\u001b[39;00m:\n",
      "\u001b[0;31mAttributeError\u001b[0m: 'NoneType' object has no attribute 'split'"
     ]
    }
   ],
   "source": [
    "proj_types = ['publications','projects']\n",
    "construct_json_file = {}\n",
    "for proj_type in proj_types:\n",
    "    construct_json_file.update(organize_portfolio_construct(proj_type))\n",
    "construct_json_file"
   ]
  },
  {
   "cell_type": "code",
   "execution_count": null,
   "id": "abf302f1-0456-4d87-9733-24d7f394a784",
   "metadata": {},
   "outputs": [],
   "source": [
    "with open('construct_meta.json', 'w', encoding='utf-8') as f:\n",
    "    json.dump(construct_json_file, f, ensure_ascii=False, indent=4)"
   ]
  },
  {
   "cell_type": "code",
   "execution_count": null,
   "id": "3181544d-dabd-4791-be22-935aa154de3c",
   "metadata": {},
   "outputs": [],
   "source": [
    "# # key starts with _ will not be passed to portfolio construction\n",
    "# each_meta_file = {\n",
    "#     'title':'',                                              # short title for agent and this will be the keyword that can be jumped into a certain project\n",
    "#     'description':'',                                        # whole description\n",
    "#     'project_type':''                                        # pdf, html, out sorce link\n",
    "#     '_chapters':{                       \n",
    "#         'chapter_name_1': {\"page\":1, \"chapter description\"}, # need to know main content of this chapter and why need to jump to here\n",
    "#         'chapter_name_2': {\"\"}\n",
    "#     },\n",
    "#     'portfolio_asset':[\"\"],\n",
    "#     '_keywords':{\n",
    "#         \"keyword\": {function}                                # short title for agent and this will be the keyword that can be jumped into a certain project\n",
    "#     }\n",
    "    \n",
    "# }"
   ]
  },
  {
   "cell_type": "code",
   "execution_count": null,
   "id": "303f32ad-2ab7-45e7-96d4-aeca0b0b999b",
   "metadata": {},
   "outputs": [],
   "source": [
    "# construct_metadata = {\n",
    "#     \"publications\":{\n",
    "#         [\n",
    "#             {\n",
    "#                 'title':'',\n",
    "#                 'description':'',\n",
    "#                 'project_type': '',         # outside link # local file \n",
    "#                 'short_show_file':'',       # pic or \n",
    "#                 '',\n",
    "#             },\n",
    "#             {\n",
    "                \n",
    "#             }\n",
    "#         ]\n",
    "        \n",
    "#     }\n",
    "#     \"projects\":{\n",
    "#         'title':'',\n",
    "#         'description':'',\n",
    "#         'project_type': ,  # outside link # local file \n",
    "#         'src_file':'',      \n",
    "#         ''\n",
    "#     }\n",
    "\n",
    "# }"
   ]
  }
 ],
 "metadata": {
  "kernelspec": {
   "display_name": "Python 3 (ipykernel)",
   "language": "python",
   "name": "python3"
  },
  "language_info": {
   "codemirror_mode": {
    "name": "ipython",
    "version": 3
   },
   "file_extension": ".py",
   "mimetype": "text/x-python",
   "name": "python",
   "nbconvert_exporter": "python",
   "pygments_lexer": "ipython3",
   "version": "3.9.20"
  }
 },
 "nbformat": 4,
 "nbformat_minor": 5
}
